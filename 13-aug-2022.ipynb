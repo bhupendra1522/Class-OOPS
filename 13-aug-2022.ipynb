{
 "cells": [
  {
   "cell_type": "markdown",
   "id": "9114ccc5",
   "metadata": {},
   "source": [
    "class - OOPS --- object oriented programming technology"
   ]
  },
  {
   "cell_type": "code",
   "execution_count": 13,
   "id": "7c9e0dcb",
   "metadata": {},
   "outputs": [],
   "source": [
    "class Student:\n",
    "    #initialization/constructor      # self  --->instance/object name\n",
    "    def __init__(self,rollno,name):\n",
    "        self.rollno=rollno\n",
    "        self.name=name\n",
    "        \n",
    "    def display(self): # user difined function\n",
    "        print(\"student rollno=\",self.rollno,\" and name =\",self.name)"
   ]
  },
  {
   "cell_type": "code",
   "execution_count": 14,
   "id": "f8eca44f",
   "metadata": {},
   "outputs": [
    {
     "name": "stdout",
     "output_type": "stream",
     "text": [
      "student rollno= 201  and name = john\n"
     ]
    }
   ],
   "source": [
    "# creating instance/object\n",
    "\n",
    "obj1=Student (201,\"john\") # this line will automatically involve the initialization constructor\n",
    "obj1.display() # user difined function is called explicitly"
   ]
  },
  {
   "cell_type": "code",
   "execution_count": 15,
   "id": "ccedca53",
   "metadata": {},
   "outputs": [],
   "source": [
    "stud1=Student(202,\"andrew\") # this line will automatically involke the initialization constructor"
   ]
  },
  {
   "cell_type": "code",
   "execution_count": 16,
   "id": "8bae0491",
   "metadata": {},
   "outputs": [
    {
     "name": "stdout",
     "output_type": "stream",
     "text": [
      "student rollno= 202  and name = andrew\n"
     ]
    }
   ],
   "source": [
    "stud1.display()"
   ]
  },
  {
   "cell_type": "code",
   "execution_count": 17,
   "id": "d9a159fd",
   "metadata": {},
   "outputs": [
    {
     "name": "stdout",
     "output_type": "stream",
     "text": [
      "student rollno= 203  and name = tom\n"
     ]
    }
   ],
   "source": [
    "stud2=Student(203,\"tom\") # this line will automatically involke the initialization constructor\n",
    "stud2.display()"
   ]
  },
  {
   "cell_type": "code",
   "execution_count": 19,
   "id": "fcf36d61",
   "metadata": {},
   "outputs": [
    {
     "name": "stdout",
     "output_type": "stream",
     "text": [
      "student rollno= 204  and name =  maria \n"
     ]
    }
   ],
   "source": [
    "stud3=Student(204,\" maria \") # this line will automatically involke the initialization constructor\n",
    "stud3.display()"
   ]
  },
  {
   "cell_type": "code",
   "execution_count": 28,
   "id": "01b7575b",
   "metadata": {},
   "outputs": [
    {
     "data": {
      "text/plain": [
       "202"
      ]
     },
     "execution_count": 28,
     "metadata": {},
     "output_type": "execute_result"
    }
   ],
   "source": [
    "\n",
    "stud1.rollno"
   ]
  },
  {
   "cell_type": "code",
   "execution_count": 30,
   "id": "f414f407",
   "metadata": {},
   "outputs": [
    {
     "data": {
      "text/plain": [
       "'andrew'"
      ]
     },
     "execution_count": 30,
     "metadata": {},
     "output_type": "execute_result"
    }
   ],
   "source": [
    "stud1.name"
   ]
  },
  {
   "cell_type": "code",
   "execution_count": 31,
   "id": "5b5fb6f2",
   "metadata": {},
   "outputs": [
    {
     "data": {
      "text/plain": [
       "'tom'"
      ]
     },
     "execution_count": 31,
     "metadata": {},
     "output_type": "execute_result"
    }
   ],
   "source": [
    "stud2.name"
   ]
  },
  {
   "cell_type": "code",
   "execution_count": null,
   "id": "ea8be4c4",
   "metadata": {},
   "outputs": [],
   "source": []
  },
  {
   "cell_type": "code",
   "execution_count": null,
   "id": "6db9169f",
   "metadata": {},
   "outputs": [],
   "source": []
  },
  {
   "cell_type": "code",
   "execution_count": null,
   "id": "6ae9a827",
   "metadata": {},
   "outputs": [],
   "source": []
  },
  {
   "cell_type": "code",
   "execution_count": null,
   "id": "b36e6450",
   "metadata": {},
   "outputs": [],
   "source": []
  },
  {
   "cell_type": "code",
   "execution_count": null,
   "id": "b5302e4e",
   "metadata": {},
   "outputs": [],
   "source": []
  },
  {
   "cell_type": "code",
   "execution_count": null,
   "id": "d93828ae",
   "metadata": {},
   "outputs": [],
   "source": []
  },
  {
   "cell_type": "code",
   "execution_count": 39,
   "id": "d758da66",
   "metadata": {},
   "outputs": [],
   "source": [
    "class employee:\n",
    "    revenue=30000 # class veriable\n",
    "    def __init__(self,empno,name,sal,revenue):\n",
    "        self.empno=empno # instance variable\n",
    "        self.name=name\n",
    "        self.sal=sal\n",
    "        self.revenue=revenue\n",
    "    def display(self):\n",
    "        print(self.empno,\" \",self.name,\" \",self.sal,self.revenue )"
   ]
  },
  {
   "cell_type": "code",
   "execution_count": 27,
   "id": "9f0ce50b",
   "metadata": {},
   "outputs": [
    {
     "name": "stdout",
     "output_type": "stream",
     "text": [
      "40029462   bhupendra   40000\n",
      "40029464   nikunj   30000\n",
      "40029461   mobin   25000\n"
     ]
    }
   ],
   "source": [
    "emp1=employee(40029462,\"bhupendra\",40000)\n",
    "emp1.display()\n",
    "\n",
    "emp2=employee(40029464,\"nikunj\",30000)\n",
    "emp2.display()\n",
    "\n",
    "emp3=employee(40029461,\"mobin\",25000)\n",
    "emp3.display()"
   ]
  },
  {
   "cell_type": "code",
   "execution_count": 32,
   "id": "5f1a2a7c",
   "metadata": {},
   "outputs": [
    {
     "data": {
      "text/plain": [
       "40000"
      ]
     },
     "execution_count": 32,
     "metadata": {},
     "output_type": "execute_result"
    }
   ],
   "source": [
    "emp1.sal"
   ]
  },
  {
   "cell_type": "code",
   "execution_count": 33,
   "id": "ff2c782d",
   "metadata": {},
   "outputs": [
    {
     "data": {
      "text/plain": [
       "30000"
      ]
     },
     "execution_count": 33,
     "metadata": {},
     "output_type": "execute_result"
    }
   ],
   "source": [
    "emp2.sal"
   ]
  },
  {
   "cell_type": "code",
   "execution_count": 34,
   "id": "971b9b90",
   "metadata": {},
   "outputs": [
    {
     "data": {
      "text/plain": [
       "'nikunj'"
      ]
     },
     "execution_count": 34,
     "metadata": {},
     "output_type": "execute_result"
    }
   ],
   "source": [
    "emp2.name"
   ]
  },
  {
   "cell_type": "code",
   "execution_count": 37,
   "id": "d5bb2571",
   "metadata": {},
   "outputs": [
    {
     "data": {
      "text/plain": [
       "30000"
      ]
     },
     "execution_count": 37,
     "metadata": {},
     "output_type": "execute_result"
    }
   ],
   "source": [
    "employee.revenue"
   ]
  },
  {
   "cell_type": "code",
   "execution_count": 41,
   "id": "bd12da74",
   "metadata": {},
   "outputs": [
    {
     "ename": "NameError",
     "evalue": "name 'emp' is not defined",
     "output_type": "error",
     "traceback": [
      "\u001b[1;31m---------------------------------------------------------------------------\u001b[0m",
      "\u001b[1;31mNameError\u001b[0m                                 Traceback (most recent call last)",
      "Input \u001b[1;32mIn [41]\u001b[0m, in \u001b[0;36m<cell line: 1>\u001b[1;34m()\u001b[0m\n\u001b[1;32m----> 1\u001b[0m \u001b[43memp\u001b[49m\u001b[38;5;241m.\u001b[39mrevenue\n",
      "\u001b[1;31mNameError\u001b[0m: name 'emp' is not defined"
     ]
    }
   ],
   "source": [
    "emp.revenue"
   ]
  },
  {
   "cell_type": "code",
   "execution_count": null,
   "id": "95b21858",
   "metadata": {},
   "outputs": [],
   "source": []
  },
  {
   "cell_type": "code",
   "execution_count": 47,
   "id": "2be6e8a0",
   "metadata": {},
   "outputs": [
    {
     "name": "stdout",
     "output_type": "stream",
     "text": [
      "id = 101 name is  andrew\n",
      "id = 102 name is  john\n"
     ]
    }
   ],
   "source": [
    "class person:\n",
    "    #consructor/initialization automaticaly called\n",
    "    def __init__(self,id,name):\n",
    "        self.id=id\n",
    "        self.name=name\n",
    "        \n",
    "    def display(self):\n",
    "        print(\"id =\",self.id,\"name is \",self.name)\n",
    "\n",
    "#instance object        \n",
    "p1=person(101,\"andrew\")\n",
    "p1.display()\n",
    "\n",
    "p2=person(102,\"john\")\n",
    "p2.display()\n",
    "\n"
   ]
  },
  {
   "cell_type": "code",
   "execution_count": 48,
   "id": "df86755b",
   "metadata": {},
   "outputs": [],
   "source": [
    "class student:\n",
    "    #class veriable\n",
    "    fees=8000\n",
    "    \n",
    "    def __init__(self,name,grade):\n",
    "        self.name=name\n",
    "        self.grade=grade\n",
    "        \n",
    "    def display(self):\n",
    "        print(\"name:\",self.name,\"grade:\",self.grade)"
   ]
  },
  {
   "cell_type": "code",
   "execution_count": 50,
   "id": "d112b916",
   "metadata": {},
   "outputs": [
    {
     "name": "stdout",
     "output_type": "stream",
     "text": [
      "name: sakshi grade: 3\n"
     ]
    }
   ],
   "source": [
    "s1=student(\"sakshi\",3)\n",
    "s1.display()"
   ]
  },
  {
   "cell_type": "code",
   "execution_count": 52,
   "id": "6bd0c100",
   "metadata": {},
   "outputs": [],
   "source": [
    "class student:\n",
    "    \n",
    "    def __init__(self,name,grade):\n",
    "        self.name=name\n",
    "        self.grade=grade"
   ]
  },
  {
   "cell_type": "code",
   "execution_count": null,
   "id": "0ff590a7",
   "metadata": {},
   "outputs": [],
   "source": []
  },
  {
   "cell_type": "code",
   "execution_count": null,
   "id": "5bfed6c0",
   "metadata": {},
   "outputs": [],
   "source": []
  },
  {
   "cell_type": "code",
   "execution_count": 58,
   "id": "8ea421dd",
   "metadata": {},
   "outputs": [],
   "source": [
    "class car:\n",
    "    #a simple class for cars\n",
    "    \n",
    "    #contrucrtor to initialize\n",
    "    def __init__(self,company,color):\n",
    "        self.company=company\n",
    "        self.color=color\n",
    "        \n",
    "        \n",
    "   #function to print car company and color\n",
    "    def  display(self):\n",
    "        print(\"this is a\",self.color,self.company)\n",
    "        \n",
    "    "
   ]
  },
  {
   "cell_type": "code",
   "execution_count": 59,
   "id": "cba67315",
   "metadata": {},
   "outputs": [],
   "source": [
    "def main():\n",
    "    c=car(\"ferari\",\"red\")\n",
    "    c.display()"
   ]
  },
  {
   "cell_type": "code",
   "execution_count": 60,
   "id": "84eeab1e",
   "metadata": {},
   "outputs": [
    {
     "name": "stdout",
     "output_type": "stream",
     "text": [
      "this is a red ferari\n"
     ]
    }
   ],
   "source": [
    "if __name__==\"__main__\":\n",
    "    main()"
   ]
  },
  {
   "cell_type": "code",
   "execution_count": 6,
   "id": "f8de79d4",
   "metadata": {},
   "outputs": [],
   "source": [
    "class employee:\n",
    "    \n",
    "    def __init__(self,name,age):\n",
    "        print(\"intialized method called\")\n",
    "        self.name=name\n",
    "        self.age=age\n",
    "        \n",
    "        \n",
    "\n",
    "    def getdata(self,name,age):\n",
    "        print(\"getdata method called\")\n",
    "        self.name=name\n",
    "        self.age=age\n",
    "        \n",
    "    def displaydata(self):\n",
    "        print(\"hello\",self.name,self.age)\n",
    "     "
   ]
  },
  {
   "cell_type": "code",
   "execution_count": 7,
   "id": "a000d9fc",
   "metadata": {},
   "outputs": [],
   "source": [
    "def main():\n",
    "    e=employee(\"william\",35) # here  intialize will work\n",
    "    e.displaydata()\n",
    "    \n",
    "    e.getdata(\"john\",25)\n",
    "    e.displaydata()"
   ]
  },
  {
   "cell_type": "code",
   "execution_count": 8,
   "id": "9ec4e288",
   "metadata": {},
   "outputs": [
    {
     "name": "stdout",
     "output_type": "stream",
     "text": [
      "intialized method called\n",
      "hello william 35\n",
      "getdata method called\n",
      "hello john 25\n"
     ]
    }
   ],
   "source": [
    "if __name__==\"__main__\":\n",
    "    main()"
   ]
  },
  {
   "cell_type": "markdown",
   "id": "3f46356d",
   "metadata": {},
   "source": [
    "# create a player class with name,age,sports associated with the player."
   ]
  },
  {
   "cell_type": "code",
   "execution_count": 19,
   "id": "ef499a04",
   "metadata": {},
   "outputs": [],
   "source": [
    "class player:\n",
    "    \n",
    "    \n",
    "    def __init__(self,name,age,sport):\n",
    "        print(\"initialized data for players\")\n",
    "        self.name=name\n",
    "        self.age=age\n",
    "        self.sport=sport\n",
    "        \n",
    "    def getdata(self,name,age,sport):\n",
    "        print(\"Getting data for players\")\n",
    "        self.name=name\n",
    "        self.age=age\n",
    "        self.sport=sport\n",
    "        \n",
    "    def displaydata(self):\n",
    "        print(\"player details :\",self.name,self.age,self.sport)\n",
    "        \n",
    "def main():\n",
    "    p1=player(\"virat\",35,\"criket\")\n",
    "    p1.displaydata()\n",
    "            \n",
    "    p1=getdata(\"richard\",45,\"tennis\")\n",
    "    p1.displaydata()\n",
    "            \n",
    "    p2=player(\"doni\",25,\"criket\")\n",
    "    p2.displaydata()\n",
    "    \n",
    "       \n",
    "    p2=getdata(\"vivan\",65,\"criket\")\n",
    "    p2.displaydata()\n",
    "    \n",
    "    \n",
    "    \n",
    "                     \n",
    "    "
   ]
  },
  {
   "cell_type": "code",
   "execution_count": 21,
   "id": "07fba34f",
   "metadata": {},
   "outputs": [
    {
     "name": "stdout",
     "output_type": "stream",
     "text": [
      "initialized data for players\n",
      "player details : virat 35 criket\n"
     ]
    },
    {
     "ename": "NameError",
     "evalue": "name 'getdata' is not defined",
     "output_type": "error",
     "traceback": [
      "\u001b[1;31m---------------------------------------------------------------------------\u001b[0m",
      "\u001b[1;31mNameError\u001b[0m                                 Traceback (most recent call last)",
      "Input \u001b[1;32mIn [21]\u001b[0m, in \u001b[0;36m<cell line: 1>\u001b[1;34m()\u001b[0m\n\u001b[0;32m      1\u001b[0m \u001b[38;5;28;01mif\u001b[39;00m \u001b[38;5;18m__name__\u001b[39m\u001b[38;5;241m==\u001b[39m\u001b[38;5;124m\"\u001b[39m\u001b[38;5;124m__main__\u001b[39m\u001b[38;5;124m\"\u001b[39m:\n\u001b[1;32m----> 2\u001b[0m     \u001b[43mmain\u001b[49m\u001b[43m(\u001b[49m\u001b[43m)\u001b[49m\n",
      "Input \u001b[1;32mIn [19]\u001b[0m, in \u001b[0;36mmain\u001b[1;34m()\u001b[0m\n\u001b[0;32m     20\u001b[0m p1\u001b[38;5;241m=\u001b[39mplayer(\u001b[38;5;124m\"\u001b[39m\u001b[38;5;124mvirat\u001b[39m\u001b[38;5;124m\"\u001b[39m,\u001b[38;5;241m35\u001b[39m,\u001b[38;5;124m\"\u001b[39m\u001b[38;5;124mcriket\u001b[39m\u001b[38;5;124m\"\u001b[39m)\n\u001b[0;32m     21\u001b[0m p1\u001b[38;5;241m.\u001b[39mdisplaydata()\n\u001b[1;32m---> 23\u001b[0m p1\u001b[38;5;241m=\u001b[39m\u001b[43mgetdata\u001b[49m(\u001b[38;5;124m\"\u001b[39m\u001b[38;5;124mrichard\u001b[39m\u001b[38;5;124m\"\u001b[39m,\u001b[38;5;241m45\u001b[39m,\u001b[38;5;124m\"\u001b[39m\u001b[38;5;124mtennis\u001b[39m\u001b[38;5;124m\"\u001b[39m)\n\u001b[0;32m     24\u001b[0m p1\u001b[38;5;241m.\u001b[39mdisplaydata()\n\u001b[0;32m     26\u001b[0m p2\u001b[38;5;241m=\u001b[39mplayer(\u001b[38;5;124m\"\u001b[39m\u001b[38;5;124mdoni\u001b[39m\u001b[38;5;124m\"\u001b[39m,\u001b[38;5;241m25\u001b[39m,\u001b[38;5;124m\"\u001b[39m\u001b[38;5;124mcriket\u001b[39m\u001b[38;5;124m\"\u001b[39m)\n",
      "\u001b[1;31mNameError\u001b[0m: name 'getdata' is not defined"
     ]
    }
   ],
   "source": [
    "if __name__==\"__main__\":\n",
    "    main()"
   ]
  },
  {
   "cell_type": "code",
   "execution_count": null,
   "id": "b9abfbd4",
   "metadata": {},
   "outputs": [],
   "source": []
  }
 ],
 "metadata": {
  "kernelspec": {
   "display_name": "Python 3 (ipykernel)",
   "language": "python",
   "name": "python3"
  },
  "language_info": {
   "codemirror_mode": {
    "name": "ipython",
    "version": 3
   },
   "file_extension": ".py",
   "mimetype": "text/x-python",
   "name": "python",
   "nbconvert_exporter": "python",
   "pygments_lexer": "ipython3",
   "version": "3.9.12"
  }
 },
 "nbformat": 4,
 "nbformat_minor": 5
}
